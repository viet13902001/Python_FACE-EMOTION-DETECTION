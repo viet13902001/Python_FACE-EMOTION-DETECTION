{
  "nbformat": 4,
  "nbformat_minor": 0,
  "metadata": {
    "colab": {
      "name": "2classhappyandsad.ipynb",
      "provenance": []
    },
    "kernelspec": {
      "name": "python3",
      "display_name": "Python 3"
    },
    "language_info": {
      "name": "python"
    },
    "accelerator": "GPU"
  },
  "cells": [
    {
      "cell_type": "code",
      "metadata": {
        "id": "Q8FsJFi5Fr2W",
        "colab": {
          "base_uri": "https://localhost:8080/"
        },
        "outputId": "c7690c7d-6409-4dd9-fd88-aeb389c4826f"
      },
      "source": [
        "# from google.colab import drive\n",
        "# drive.mount('/content/drive')"
      ],
      "execution_count": null,
      "outputs": [
        {
          "output_type": "stream",
          "text": [
            "Mounted at /content/drive\n"
          ],
          "name": "stdout"
        }
      ]
    },
    {
      "cell_type": "code",
      "metadata": {
        "id": "Flj0Y07yF2_7"
      },
      "source": [
        "# !unzip /content/drive/MyDrive/BTL/archive.zip"
      ],
      "execution_count": null,
      "outputs": []
    },
    {
      "cell_type": "code",
      "metadata": {
        "id": "fNa2YcqkF9hM"
      },
      "source": [
        "import os\n",
        "import glob\n",
        "import cv2\n",
        "import numpy as np\n",
        "path_happy = '/content/train/happy/*.jpg'\n",
        "img_name_happy = glob.glob(path_happy)\n",
        "img_name_happy.sort()\n",
        "X_train=[]\n",
        "happy_data = []\n",
        "for file in img_name_happy:\n",
        "  a = cv2.imread(file)\n",
        "  happy_data.append(a)\n",
        "  X_train.append(a)\n",
        "  \n",
        "\n",
        "happy_data=np.array(happy_data)\n",
        "\n",
        "happy_lable=[]\n",
        "for i in range (len(happy_data)):\n",
        "  happy_lable.append(np.array([1, 0]))"
      ],
      "execution_count": null,
      "outputs": []
    },
    {
      "cell_type": "code",
      "metadata": {
        "id": "U4N6yWs0GBRN"
      },
      "source": [
        "path_sad = '/content/train/sad/*.jpg'\n",
        "img_name_sad = glob.glob(path_sad)\n",
        "img_name_sad.sort()\n",
        "\n",
        "sad_data = []\n",
        "for file in img_name_sad:\n",
        "  a = cv2.imread(file)\n",
        "  sad_data.append(a)\n",
        "  X_train.append(a)\n",
        "  \n",
        "\n",
        "sad_data=np.array(sad_data)\n",
        "\n",
        "sad_lable=[]\n",
        "for i in range (len(sad_data)):\n",
        "  sad_lable.append(np.array([0, 1]))\n",
        "  "
      ],
      "execution_count": null,
      "outputs": []
    },
    {
      "cell_type": "code",
      "metadata": {
        "id": "4SN9I0gBHAjH"
      },
      "source": [
        "path_sad_test = '/content/test/sad/*.jpg'\n",
        "img_name_sad_test = glob.glob(path_sad_test)\n",
        "img_name_sad_test.sort()\n",
        "\n",
        "sad_test_data = []\n",
        "for file in img_name_sad_test:\n",
        "  a = cv2.imread(file)\n",
        "  sad_test_data.append(a)\n",
        "  X_train.append(a)\n",
        "  \n",
        "\n",
        "sad_test_data=np.array(sad_test_data)\n",
        "\n",
        "sad_test_lable=[]\n",
        "for i in range (len(sad_test_data)):\n",
        "  sad_test_lable.append(np.array([0, 1]))\n",
        "\n"
      ],
      "execution_count": null,
      "outputs": []
    },
    {
      "cell_type": "code",
      "metadata": {
        "id": "3dZVWakuH9aD"
      },
      "source": [
        "path_happy_test = '/content/test/happy/*.jpg'\n",
        "img_name_happy_test = glob.glob(path_happy_test)\n",
        "img_name_happy_test.sort()\n",
        "\n",
        "happy_test_data = []\n",
        "for file in img_name_happy_test:\n",
        "  a = cv2.imread(file)\n",
        "  happy_test_data.append(a)\n",
        "  X_train.append(a)\n",
        "  \n",
        "\n",
        "happy_test_data=np.array(happy_test_data)\n",
        "\n",
        "happy_test_lable=[]\n",
        "for i in range (len(happy_test_data)):\n",
        "  happy_test_lable.append(np.array([1, 0]))\n"
      ],
      "execution_count": null,
      "outputs": []
    },
    {
      "cell_type": "code",
      "metadata": {
        "id": "eHEqpSNcGL34"
      },
      "source": [
        "y_train=[]\n",
        "X_train=(np.array(X_train))/255.\n",
        "\n",
        "y_train=happy_lable + sad_lable + sad_test_lable + happy_test_lable\n",
        "y_train=np.array(y_train)\n"
      ],
      "execution_count": null,
      "outputs": []
    },
    {
      "cell_type": "code",
      "metadata": {
        "colab": {
          "base_uri": "https://localhost:8080/"
        },
        "id": "6Xqx0cspGRU3",
        "outputId": "50f5b780-4a9e-47a7-b95f-3b2f14855bab"
      },
      "source": [
        "print(X_train.shape,y_train.shape)"
      ],
      "execution_count": null,
      "outputs": [
        {
          "output_type": "stream",
          "text": [
            "(16610, 48, 48, 3) (16610, 2)\n"
          ],
          "name": "stdout"
        }
      ]
    },
    {
      "cell_type": "code",
      "metadata": {
        "id": "qmdbZzHWGTDo"
      },
      "source": [
        "from sklearn.model_selection import train_test_split\n",
        "X_train, X_test, y_train, y_test = train_test_split(X_train, y_train, test_size=0.2, random_state=1)"
      ],
      "execution_count": null,
      "outputs": []
    },
    {
      "cell_type": "code",
      "metadata": {
        "colab": {
          "base_uri": "https://localhost:8080/"
        },
        "id": "44meCNHmGU9m",
        "outputId": "deac3c96-7590-45ee-cd6e-d8b562f565bc"
      },
      "source": [
        "print(X_train.shape)\n",
        "print(y_train.shape)\n",
        "print(X_test.shape)\n",
        "print(y_test.shape)"
      ],
      "execution_count": null,
      "outputs": [
        {
          "output_type": "stream",
          "text": [
            "(13288, 48, 48, 3)\n",
            "(13288, 2)\n",
            "(3322, 48, 48, 3)\n",
            "(3322, 2)\n"
          ],
          "name": "stdout"
        }
      ]
    },
    {
      "cell_type": "code",
      "metadata": {
        "colab": {
          "base_uri": "https://localhost:8080/"
        },
        "id": "4OYwN8FiGXrF",
        "outputId": "9d15f728-96ad-4789-ca7d-eaf04fc58233"
      },
      "source": [
        "from tensorflow.keras.layers import Input, Conv2D, MaxPooling2D, Flatten, Dense, Dropout\n",
        "from tensorflow.keras.models import Model\n",
        "batch_size = 16\n",
        "img_height = 48\n",
        "img_width = 48\n",
        "num_classes=2\n",
        "inp = Input(shape = (img_height, img_width, 3))\n",
        "cnn = Conv2D(filters = 16, kernel_size = 3,padding='same', activation = 'relu') (inp)\n",
        "pooling = MaxPooling2D((2,2)) (cnn)\n",
        "drop=Dropout(0.2)(pooling)\n",
        "cnn = Conv2D(filters = 32, kernel_size = 3, padding='same', activation = 'relu') (drop)\n",
        "pooling = MaxPooling2D((2,2)) (cnn)\n",
        "drop=Dropout(0.2)(pooling)\n",
        "cnn = Conv2D(filters = 64, kernel_size = 3, padding='same', activation = 'relu') (drop)\n",
        "pooling = MaxPooling2D((2,2)) (cnn)\n",
        "drop=Dropout(0.2)(pooling)\n",
        "f = Flatten()(drop)\n",
        "fc1 = Dense(units = 128, activation = 'relu') (f)\n",
        "out = Dense(units = num_classes, activation = 'softmax') (fc1)\n",
        "model = Model(inputs = inp, outputs = out)\n",
        "model.summary() \n"
      ],
      "execution_count": null,
      "outputs": [
        {
          "output_type": "stream",
          "text": [
            "Model: \"model\"\n",
            "_________________________________________________________________\n",
            "Layer (type)                 Output Shape              Param #   \n",
            "=================================================================\n",
            "input_1 (InputLayer)         [(None, 48, 48, 3)]       0         \n",
            "_________________________________________________________________\n",
            "conv2d (Conv2D)              (None, 48, 48, 16)        448       \n",
            "_________________________________________________________________\n",
            "max_pooling2d (MaxPooling2D) (None, 24, 24, 16)        0         \n",
            "_________________________________________________________________\n",
            "dropout (Dropout)            (None, 24, 24, 16)        0         \n",
            "_________________________________________________________________\n",
            "conv2d_1 (Conv2D)            (None, 24, 24, 32)        4640      \n",
            "_________________________________________________________________\n",
            "max_pooling2d_1 (MaxPooling2 (None, 12, 12, 32)        0         \n",
            "_________________________________________________________________\n",
            "dropout_1 (Dropout)          (None, 12, 12, 32)        0         \n",
            "_________________________________________________________________\n",
            "conv2d_2 (Conv2D)            (None, 12, 12, 64)        18496     \n",
            "_________________________________________________________________\n",
            "max_pooling2d_2 (MaxPooling2 (None, 6, 6, 64)          0         \n",
            "_________________________________________________________________\n",
            "dropout_2 (Dropout)          (None, 6, 6, 64)          0         \n",
            "_________________________________________________________________\n",
            "flatten (Flatten)            (None, 2304)              0         \n",
            "_________________________________________________________________\n",
            "dense (Dense)                (None, 128)               295040    \n",
            "_________________________________________________________________\n",
            "dense_1 (Dense)              (None, 2)                 258       \n",
            "=================================================================\n",
            "Total params: 318,882\n",
            "Trainable params: 318,882\n",
            "Non-trainable params: 0\n",
            "_________________________________________________________________\n"
          ],
          "name": "stdout"
        }
      ]
    },
    {
      "cell_type": "code",
      "metadata": {
        "id": "_8ctsWVfGZaO"
      },
      "source": [
        "from keras.losses import CategoricalCrossentropy\n",
        "import keras\n",
        "opt = keras.optimizers.Adam(learning_rate=0.001)\n",
        "model.compile(loss='categorical_crossentropy', optimizer =opt, metrics=['accuracy'])\n"
      ],
      "execution_count": null,
      "outputs": []
    },
    {
      "cell_type": "code",
      "metadata": {
        "colab": {
          "base_uri": "https://localhost:8080/"
        },
        "id": "FBzjfA59GcXe",
        "outputId": "f11369cf-2467-4d55-c878-87c50c8dd5d7"
      },
      "source": [
        "epochs = 50\n",
        "history = model.fit(\n",
        "  X_train,y_train,\n",
        "  epochs=epochs,\n",
        "  validation_data=(X_test,y_test)\n",
        ")"
      ],
      "execution_count": null,
      "outputs": [
        {
          "output_type": "stream",
          "text": [
            "Epoch 1/50\n",
            "416/416 [==============================] - 34s 5ms/step - loss: 0.6280 - accuracy: 0.6396 - val_loss: 0.5372 - val_accuracy: 0.7267\n",
            "Epoch 2/50\n",
            "416/416 [==============================] - 2s 5ms/step - loss: 0.5015 - accuracy: 0.7511 - val_loss: 0.4221 - val_accuracy: 0.8104\n",
            "Epoch 3/50\n",
            "416/416 [==============================] - 2s 5ms/step - loss: 0.4398 - accuracy: 0.7894 - val_loss: 0.3859 - val_accuracy: 0.8305\n",
            "Epoch 4/50\n",
            "416/416 [==============================] - 2s 5ms/step - loss: 0.4062 - accuracy: 0.8096 - val_loss: 0.3664 - val_accuracy: 0.8429\n",
            "Epoch 5/50\n",
            "416/416 [==============================] - 2s 5ms/step - loss: 0.3817 - accuracy: 0.8191 - val_loss: 0.3303 - val_accuracy: 0.8636\n",
            "Epoch 6/50\n",
            "416/416 [==============================] - 2s 4ms/step - loss: 0.3568 - accuracy: 0.8345 - val_loss: 0.3244 - val_accuracy: 0.8627\n",
            "Epoch 7/50\n",
            "416/416 [==============================] - 2s 4ms/step - loss: 0.3401 - accuracy: 0.8446 - val_loss: 0.3015 - val_accuracy: 0.8727\n",
            "Epoch 8/50\n",
            "416/416 [==============================] - 2s 4ms/step - loss: 0.3258 - accuracy: 0.8513 - val_loss: 0.2897 - val_accuracy: 0.8799\n",
            "Epoch 9/50\n",
            "416/416 [==============================] - 2s 5ms/step - loss: 0.3059 - accuracy: 0.8639 - val_loss: 0.2912 - val_accuracy: 0.8817\n",
            "Epoch 10/50\n",
            "416/416 [==============================] - 2s 5ms/step - loss: 0.2839 - accuracy: 0.8745 - val_loss: 0.2855 - val_accuracy: 0.8853\n",
            "Epoch 11/50\n",
            "416/416 [==============================] - 2s 5ms/step - loss: 0.2760 - accuracy: 0.8798 - val_loss: 0.2740 - val_accuracy: 0.8853\n",
            "Epoch 12/50\n",
            "416/416 [==============================] - 2s 5ms/step - loss: 0.2550 - accuracy: 0.8916 - val_loss: 0.2979 - val_accuracy: 0.8775\n",
            "Epoch 13/50\n",
            "416/416 [==============================] - 2s 5ms/step - loss: 0.2467 - accuracy: 0.8933 - val_loss: 0.2732 - val_accuracy: 0.8910\n",
            "Epoch 14/50\n",
            "416/416 [==============================] - 2s 4ms/step - loss: 0.2362 - accuracy: 0.9016 - val_loss: 0.2777 - val_accuracy: 0.8919\n",
            "Epoch 15/50\n",
            "416/416 [==============================] - 2s 4ms/step - loss: 0.2152 - accuracy: 0.9106 - val_loss: 0.2728 - val_accuracy: 0.8931\n",
            "Epoch 16/50\n",
            "416/416 [==============================] - 2s 4ms/step - loss: 0.1990 - accuracy: 0.9205 - val_loss: 0.2883 - val_accuracy: 0.8865\n",
            "Epoch 17/50\n",
            "416/416 [==============================] - 2s 5ms/step - loss: 0.1881 - accuracy: 0.9211 - val_loss: 0.2648 - val_accuracy: 0.8989\n",
            "Epoch 18/50\n",
            "416/416 [==============================] - 2s 4ms/step - loss: 0.1753 - accuracy: 0.9269 - val_loss: 0.2712 - val_accuracy: 0.8977\n",
            "Epoch 19/50\n",
            "416/416 [==============================] - 2s 5ms/step - loss: 0.1591 - accuracy: 0.9373 - val_loss: 0.2903 - val_accuracy: 0.9001\n",
            "Epoch 20/50\n",
            "416/416 [==============================] - 2s 4ms/step - loss: 0.1559 - accuracy: 0.9387 - val_loss: 0.3102 - val_accuracy: 0.8925\n",
            "Epoch 21/50\n",
            "416/416 [==============================] - 2s 5ms/step - loss: 0.1431 - accuracy: 0.9428 - val_loss: 0.2943 - val_accuracy: 0.8919\n",
            "Epoch 22/50\n",
            "416/416 [==============================] - 2s 5ms/step - loss: 0.1367 - accuracy: 0.9472 - val_loss: 0.3135 - val_accuracy: 0.8922\n",
            "Epoch 23/50\n",
            "416/416 [==============================] - 2s 4ms/step - loss: 0.1248 - accuracy: 0.9514 - val_loss: 0.3160 - val_accuracy: 0.8964\n",
            "Epoch 24/50\n",
            "416/416 [==============================] - 2s 4ms/step - loss: 0.1202 - accuracy: 0.9518 - val_loss: 0.3312 - val_accuracy: 0.8934\n",
            "Epoch 25/50\n",
            "416/416 [==============================] - 2s 4ms/step - loss: 0.1110 - accuracy: 0.9575 - val_loss: 0.3289 - val_accuracy: 0.8977\n",
            "Epoch 26/50\n",
            "416/416 [==============================] - 2s 4ms/step - loss: 0.1077 - accuracy: 0.9577 - val_loss: 0.3497 - val_accuracy: 0.8919\n",
            "Epoch 27/50\n",
            "416/416 [==============================] - 2s 5ms/step - loss: 0.1043 - accuracy: 0.9601 - val_loss: 0.3252 - val_accuracy: 0.8949\n",
            "Epoch 28/50\n",
            "416/416 [==============================] - 2s 4ms/step - loss: 0.1111 - accuracy: 0.9573 - val_loss: 0.3682 - val_accuracy: 0.8934\n",
            "Epoch 29/50\n",
            "416/416 [==============================] - 2s 5ms/step - loss: 0.0950 - accuracy: 0.9618 - val_loss: 0.3332 - val_accuracy: 0.9037\n",
            "Epoch 30/50\n",
            "416/416 [==============================] - 2s 4ms/step - loss: 0.0921 - accuracy: 0.9653 - val_loss: 0.3379 - val_accuracy: 0.9001\n",
            "Epoch 31/50\n",
            "416/416 [==============================] - 2s 5ms/step - loss: 0.0879 - accuracy: 0.9675 - val_loss: 0.3434 - val_accuracy: 0.8992\n",
            "Epoch 32/50\n",
            "416/416 [==============================] - 2s 4ms/step - loss: 0.0864 - accuracy: 0.9670 - val_loss: 0.3522 - val_accuracy: 0.8946\n",
            "Epoch 33/50\n",
            "416/416 [==============================] - 2s 5ms/step - loss: 0.0728 - accuracy: 0.9727 - val_loss: 0.3661 - val_accuracy: 0.8940\n",
            "Epoch 34/50\n",
            "416/416 [==============================] - 2s 5ms/step - loss: 0.0770 - accuracy: 0.9702 - val_loss: 0.3573 - val_accuracy: 0.8958\n",
            "Epoch 35/50\n",
            "416/416 [==============================] - 2s 4ms/step - loss: 0.0735 - accuracy: 0.9725 - val_loss: 0.4030 - val_accuracy: 0.8961\n",
            "Epoch 36/50\n",
            "416/416 [==============================] - 2s 5ms/step - loss: 0.0707 - accuracy: 0.9728 - val_loss: 0.3744 - val_accuracy: 0.8970\n",
            "Epoch 37/50\n",
            "416/416 [==============================] - 2s 5ms/step - loss: 0.0763 - accuracy: 0.9691 - val_loss: 0.4004 - val_accuracy: 0.8980\n",
            "Epoch 38/50\n",
            "416/416 [==============================] - 2s 4ms/step - loss: 0.0763 - accuracy: 0.9721 - val_loss: 0.3888 - val_accuracy: 0.8970\n",
            "Epoch 39/50\n",
            "416/416 [==============================] - 2s 4ms/step - loss: 0.0619 - accuracy: 0.9783 - val_loss: 0.3795 - val_accuracy: 0.8943\n",
            "Epoch 40/50\n",
            "416/416 [==============================] - 2s 5ms/step - loss: 0.0630 - accuracy: 0.9770 - val_loss: 0.4232 - val_accuracy: 0.8898\n",
            "Epoch 41/50\n",
            "416/416 [==============================] - 2s 4ms/step - loss: 0.0672 - accuracy: 0.9743 - val_loss: 0.3995 - val_accuracy: 0.8901\n",
            "Epoch 42/50\n",
            "416/416 [==============================] - 2s 4ms/step - loss: 0.0609 - accuracy: 0.9783 - val_loss: 0.4198 - val_accuracy: 0.8940\n",
            "Epoch 43/50\n",
            "416/416 [==============================] - 2s 5ms/step - loss: 0.0621 - accuracy: 0.9786 - val_loss: 0.4005 - val_accuracy: 0.9004\n",
            "Epoch 44/50\n",
            "416/416 [==============================] - 2s 4ms/step - loss: 0.0539 - accuracy: 0.9798 - val_loss: 0.4084 - val_accuracy: 0.8904\n",
            "Epoch 45/50\n",
            "416/416 [==============================] - 2s 4ms/step - loss: 0.0571 - accuracy: 0.9789 - val_loss: 0.4359 - val_accuracy: 0.8913\n",
            "Epoch 46/50\n",
            "416/416 [==============================] - 2s 5ms/step - loss: 0.0559 - accuracy: 0.9786 - val_loss: 0.4647 - val_accuracy: 0.8886\n",
            "Epoch 47/50\n",
            "416/416 [==============================] - 2s 4ms/step - loss: 0.0555 - accuracy: 0.9808 - val_loss: 0.4351 - val_accuracy: 0.8931\n",
            "Epoch 48/50\n",
            "416/416 [==============================] - 2s 5ms/step - loss: 0.0605 - accuracy: 0.9764 - val_loss: 0.4494 - val_accuracy: 0.8919\n",
            "Epoch 49/50\n",
            "416/416 [==============================] - 2s 5ms/step - loss: 0.0509 - accuracy: 0.9822 - val_loss: 0.4217 - val_accuracy: 0.8859\n",
            "Epoch 50/50\n",
            "416/416 [==============================] - 2s 5ms/step - loss: 0.0500 - accuracy: 0.9801 - val_loss: 0.5071 - val_accuracy: 0.8844\n"
          ],
          "name": "stdout"
        }
      ]
    },
    {
      "cell_type": "code",
      "metadata": {
        "colab": {
          "base_uri": "https://localhost:8080/",
          "height": 499
        },
        "id": "279CpQYzGiJU",
        "outputId": "05834315-b9b3-47f7-f056-b66c8c1eb8f8"
      },
      "source": [
        "import matplotlib.pyplot as plt\n",
        "\n",
        "epochs = 50\n",
        "acc = history.history['accuracy']\n",
        "val_acc = history.history['val_accuracy']\n",
        "\n",
        "loss = history.history['loss']\n",
        "val_loss = history.history['val_loss']\n",
        "\n",
        "epochs_range = range(epochs)\n",
        "\n",
        "plt.figure(figsize=(8, 8))\n",
        "plt.subplot(1, 2, 1)\n",
        "plt.plot(epochs_range, acc, label='Training Accuracy')\n",
        "plt.plot(epochs_range, val_acc, label='Validation Accuracy')\n",
        "plt.legend(loc='lower right')\n",
        "plt.title('Training and Validation Accuracy')\n",
        "\n",
        "plt.subplot(1, 2, 2)\n",
        "plt.plot(epochs_range, loss, label='Training Loss')\n",
        "plt.plot(epochs_range, val_loss, label='Validation Loss')\n",
        "plt.legend(loc='upper right')\n",
        "plt.title('Training and Validation Loss')\n",
        "plt.show()"
      ],
      "execution_count": null,
      "outputs": [
        {
          "output_type": "display_data",
          "data": {
            "image/png": "[encoded data removed]",
            "text/plain": [
              "<Figure size 576x576 with 2 Axes>"
            ]
          },
          "metadata": {
            "tags": [],
            "needs_background": "light"
          }
        }
      ]
    },
    {
      "cell_type": "code",
      "metadata": {
        "colab": {
          "base_uri": "https://localhost:8080/"
        },
        "id": "X7lFCvAKHj25",
        "outputId": "f2f72fb6-29ec-48a2-e30e-4df088154a8b"
      },
      "source": [
        "model.save('model2classtestoverfitting.h5')\n",
        "img=np.array(X_test[12])/255.\n",
        "y_pre=model.predict(X_test)\n",
        "y_pre[9]"
      ],
      "execution_count": null,
      "outputs": [
        {
          "output_type": "execute_result",
          "data": {
            "text/plain": [
              "array([3.7683974e-04, 9.9962318e-01], dtype=float32)"
            ]
          },
          "metadata": {
            "tags": []
          },
          "execution_count": 31
        }
      ]
    },
    {
      "cell_type": "code",
      "metadata": {
        "colab": {
          "base_uri": "https://localhost:8080/"
        },
        "id": "liWDF1xTH3NH",
        "outputId": "4f8e20a1-411d-494d-add9-d0bbca0330d4"
      },
      "source": [
        "y_test[9]"
      ],
      "execution_count": null,
      "outputs": [
        {
          "output_type": "execute_result",
          "data": {
            "text/plain": [
              "array([1, 0])"
            ]
          },
          "metadata": {
            "tags": []
          },
          "execution_count": 17
        }
      ]
    },
    {
      "cell_type": "code",
      "metadata": {
        "id": "WdQ6DfKOH9MN"
      },
      "source": [
        "import matplotlib.pyplot as plt\n",
        "import numpy as np\n",
        "import os\n",
        "import PIL\n",
        "import tensorflow as tf\n",
        "\n",
        "from tensorflow import keras\n",
        "from tensorflow.keras import layers\n",
        "from tensorflow.keras.models import Sequential\n",
        "\n",
        "data_augmentation = keras.Model(\n",
        "  [\n",
        "    layers.experimental.preprocessing.RandomFlip(\"horizontal\", \n",
        "                                                 input_shape=(img_height, \n",
        "                                                              img_width,\n",
        "                                                              3)),\n",
        "    layers.experimental.preprocessing.RandomRotation(0.1),\n",
        "    layers.experimental.preprocessing.RandomZoom(0.1),\n",
        "  ]\n",
        ")"
      ],
      "execution_count": null,
      "outputs": []
    },
    {
      "cell_type": "code",
      "metadata": {
        "colab": {
          "base_uri": "https://localhost:8080/"
        },
        "id": "VdHY-BaQJV_l",
        "outputId": "742db655-0263-4459-90a8-9ad5e0592341"
      },
      "source": [
        "inp = Input(shape = (img_height, img_width, 3))\n",
        "cnn = Conv2D(filters = 16, kernel_size = 3,padding='same', activation = 'relu') (inp)\n",
        "pooling = MaxPooling2D((2,2)) (cnn)\n",
        "drop=Dropout(0.2)(pooling)\n",
        "cnn = Conv2D(filters = 32, kernel_size = 3, padding='same', activation = 'relu') (drop)\n",
        "pooling = MaxPooling2D((2,2)) (cnn)\n",
        "drop=Dropout(0.2)(pooling)\n",
        "cnn = Conv2D(filters = 64, kernel_size = 3, padding='same', activation = 'relu') (drop)\n",
        "pooling = MaxPooling2D((2,2)) (cnn)\n",
        "drop=Dropout(0.2)(pooling)\n",
        "f = Flatten()(drop)\n",
        "fc1 = Dense(units = 128, activation = 'relu') (f)\n",
        "out = Dense(units = num_classes, activation = 'softmax') (fc1)\n",
        "model = Model(inputs = inp, outputs = out)\n",
        "model.summary() "
      ],
      "execution_count": null,
      "outputs": [
        {
          "output_type": "stream",
          "text": [
            "Model: \"model_3\"\n",
            "_________________________________________________________________\n",
            "Layer (type)                 Output Shape              Param #   \n",
            "=================================================================\n",
            "input_2 (InputLayer)         [(None, 48, 48, 3)]       0         \n",
            "_________________________________________________________________\n",
            "conv2d_3 (Conv2D)            (None, 48, 48, 16)        448       \n",
            "_________________________________________________________________\n",
            "max_pooling2d_3 (MaxPooling2 (None, 24, 24, 16)        0         \n",
            "_________________________________________________________________\n",
            "dropout_3 (Dropout)          (None, 24, 24, 16)        0         \n",
            "_________________________________________________________________\n",
            "conv2d_4 (Conv2D)            (None, 24, 24, 32)        4640      \n",
            "_________________________________________________________________\n",
            "max_pooling2d_4 (MaxPooling2 (None, 12, 12, 32)        0         \n",
            "_________________________________________________________________\n",
            "dropout_4 (Dropout)          (None, 12, 12, 32)        0         \n",
            "_________________________________________________________________\n",
            "conv2d_5 (Conv2D)            (None, 12, 12, 64)        18496     \n",
            "_________________________________________________________________\n",
            "max_pooling2d_5 (MaxPooling2 (None, 6, 6, 64)          0         \n",
            "_________________________________________________________________\n",
            "dropout_5 (Dropout)          (None, 6, 6, 64)          0         \n",
            "_________________________________________________________________\n",
            "flatten_1 (Flatten)          (None, 2304)              0         \n",
            "_________________________________________________________________\n",
            "dense_2 (Dense)              (None, 128)               295040    \n",
            "_________________________________________________________________\n",
            "dense_3 (Dense)              (None, 2)                 258       \n",
            "=================================================================\n",
            "Total params: 318,882\n",
            "Trainable params: 318,882\n",
            "Non-trainable params: 0\n",
            "_________________________________________________________________\n"
          ],
          "name": "stdout"
        }
      ]
    },
    {
      "cell_type": "code",
      "metadata": {
        "id": "DDZPKF4SKXS0"
      },
      "source": [
        "from keras.losses import CategoricalCrossentropy\n",
        "import keras\n",
        "opt = keras.optimizers.Adam(learning_rate=0.001)\n",
        "model.compile(loss='categorical_crossentropy', optimizer =opt, metrics=['accuracy'])\n"
      ],
      "execution_count": null,
      "outputs": []
    },
    {
      "cell_type": "code",
      "metadata": {
        "colab": {
          "base_uri": "https://localhost:8080/"
        },
        "id": "pMKhPixcKnm1",
        "outputId": "6c9f8ab0-1b25-4398-f884-0b200cc00213"
      },
      "source": [
        "epochs = 100\n",
        "history = model.fit(\n",
        "  X_train,y_train,\n",
        "  epochs=epochs,\n",
        "  validation_data=(X_test,y_test)\n",
        ")"
      ],
      "execution_count": null,
      "outputs": [
        {
          "output_type": "stream",
          "text": [
            "Epoch 1/100\n",
            "416/416 [==============================] - 3s 5ms/step - loss: 0.6690 - accuracy: 0.5852 - val_loss: 0.5899 - val_accuracy: 0.6887\n",
            "Epoch 2/100\n",
            "416/416 [==============================] - 2s 4ms/step - loss: 0.5561 - accuracy: 0.7161 - val_loss: 0.4877 - val_accuracy: 0.7652\n",
            "Epoch 3/100\n",
            "416/416 [==============================] - 2s 4ms/step - loss: 0.4823 - accuracy: 0.7647 - val_loss: 0.4358 - val_accuracy: 0.7944\n",
            "Epoch 4/100\n",
            "416/416 [==============================] - 2s 5ms/step - loss: 0.4372 - accuracy: 0.7915 - val_loss: 0.3782 - val_accuracy: 0.8314\n",
            "Epoch 5/100\n",
            "416/416 [==============================] - 2s 5ms/step - loss: 0.4047 - accuracy: 0.8111 - val_loss: 0.3473 - val_accuracy: 0.8465\n",
            "Epoch 6/100\n",
            "416/416 [==============================] - 2s 4ms/step - loss: 0.3750 - accuracy: 0.8270 - val_loss: 0.3261 - val_accuracy: 0.8642\n",
            "Epoch 7/100\n",
            "416/416 [==============================] - 2s 4ms/step - loss: 0.3533 - accuracy: 0.8384 - val_loss: 0.3189 - val_accuracy: 0.8618\n",
            "Epoch 8/100\n",
            "416/416 [==============================] - 2s 5ms/step - loss: 0.3400 - accuracy: 0.8445 - val_loss: 0.3084 - val_accuracy: 0.8736\n",
            "Epoch 9/100\n",
            "416/416 [==============================] - 2s 5ms/step - loss: 0.3195 - accuracy: 0.8569 - val_loss: 0.3104 - val_accuracy: 0.8645\n",
            "Epoch 10/100\n",
            "416/416 [==============================] - 2s 5ms/step - loss: 0.3095 - accuracy: 0.8619 - val_loss: 0.2914 - val_accuracy: 0.8784\n",
            "Epoch 11/100\n",
            "416/416 [==============================] - 2s 5ms/step - loss: 0.2948 - accuracy: 0.8718 - val_loss: 0.3082 - val_accuracy: 0.8697\n",
            "Epoch 12/100\n",
            "416/416 [==============================] - 2s 4ms/step - loss: 0.2830 - accuracy: 0.8785 - val_loss: 0.2862 - val_accuracy: 0.8820\n",
            "Epoch 13/100\n",
            "416/416 [==============================] - 2s 4ms/step - loss: 0.2722 - accuracy: 0.8851 - val_loss: 0.2826 - val_accuracy: 0.8799\n",
            "Epoch 14/100\n",
            "416/416 [==============================] - 2s 4ms/step - loss: 0.2506 - accuracy: 0.8943 - val_loss: 0.2981 - val_accuracy: 0.8682\n",
            "Epoch 15/100\n",
            "416/416 [==============================] - 2s 5ms/step - loss: 0.2388 - accuracy: 0.8988 - val_loss: 0.2690 - val_accuracy: 0.8910\n",
            "Epoch 16/100\n",
            "416/416 [==============================] - 2s 4ms/step - loss: 0.2239 - accuracy: 0.9060 - val_loss: 0.2761 - val_accuracy: 0.8865\n",
            "Epoch 17/100\n",
            "416/416 [==============================] - 2s 4ms/step - loss: 0.2147 - accuracy: 0.9105 - val_loss: 0.2969 - val_accuracy: 0.8856\n",
            "Epoch 18/100\n",
            "416/416 [==============================] - 2s 5ms/step - loss: 0.2016 - accuracy: 0.9172 - val_loss: 0.2547 - val_accuracy: 0.8974\n",
            "Epoch 19/100\n",
            "416/416 [==============================] - 2s 4ms/step - loss: 0.1884 - accuracy: 0.9244 - val_loss: 0.2690 - val_accuracy: 0.8970\n",
            "Epoch 20/100\n",
            "416/416 [==============================] - 2s 4ms/step - loss: 0.1847 - accuracy: 0.9249 - val_loss: 0.2707 - val_accuracy: 0.8934\n",
            "Epoch 21/100\n",
            "416/416 [==============================] - 2s 5ms/step - loss: 0.1750 - accuracy: 0.9288 - val_loss: 0.2615 - val_accuracy: 0.8955\n",
            "Epoch 22/100\n",
            "416/416 [==============================] - 2s 4ms/step - loss: 0.1648 - accuracy: 0.9332 - val_loss: 0.2617 - val_accuracy: 0.8977\n",
            "Epoch 23/100\n",
            "416/416 [==============================] - 2s 4ms/step - loss: 0.1566 - accuracy: 0.9372 - val_loss: 0.2832 - val_accuracy: 0.8919\n",
            "Epoch 24/100\n",
            "416/416 [==============================] - 2s 5ms/step - loss: 0.1471 - accuracy: 0.9398 - val_loss: 0.2701 - val_accuracy: 0.8974\n",
            "Epoch 25/100\n",
            "416/416 [==============================] - 2s 5ms/step - loss: 0.1329 - accuracy: 0.9457 - val_loss: 0.2773 - val_accuracy: 0.9010\n",
            "Epoch 26/100\n",
            "416/416 [==============================] - 2s 4ms/step - loss: 0.1335 - accuracy: 0.9464 - val_loss: 0.2891 - val_accuracy: 0.8919\n",
            "Epoch 27/100\n",
            "416/416 [==============================] - 2s 4ms/step - loss: 0.1290 - accuracy: 0.9478 - val_loss: 0.2893 - val_accuracy: 0.8955\n",
            "Epoch 28/100\n",
            "416/416 [==============================] - 2s 5ms/step - loss: 0.1145 - accuracy: 0.9536 - val_loss: 0.3040 - val_accuracy: 0.8980\n",
            "Epoch 29/100\n",
            "416/416 [==============================] - 2s 5ms/step - loss: 0.1132 - accuracy: 0.9553 - val_loss: 0.3014 - val_accuracy: 0.8967\n",
            "Epoch 30/100\n",
            "416/416 [==============================] - 2s 5ms/step - loss: 0.1123 - accuracy: 0.9578 - val_loss: 0.3018 - val_accuracy: 0.8961\n",
            "Epoch 31/100\n",
            "416/416 [==============================] - 2s 4ms/step - loss: 0.1050 - accuracy: 0.9614 - val_loss: 0.3040 - val_accuracy: 0.8980\n",
            "Epoch 32/100\n",
            "416/416 [==============================] - 2s 4ms/step - loss: 0.1091 - accuracy: 0.9573 - val_loss: 0.2952 - val_accuracy: 0.8992\n",
            "Epoch 33/100\n",
            "416/416 [==============================] - 2s 4ms/step - loss: 0.1008 - accuracy: 0.9605 - val_loss: 0.3066 - val_accuracy: 0.8980\n",
            "Epoch 34/100\n",
            "416/416 [==============================] - 2s 5ms/step - loss: 0.1007 - accuracy: 0.9618 - val_loss: 0.3080 - val_accuracy: 0.8977\n",
            "Epoch 35/100\n",
            "416/416 [==============================] - 2s 5ms/step - loss: 0.0949 - accuracy: 0.9638 - val_loss: 0.3273 - val_accuracy: 0.8949\n",
            "Epoch 36/100\n",
            "416/416 [==============================] - 2s 5ms/step - loss: 0.0974 - accuracy: 0.9629 - val_loss: 0.3106 - val_accuracy: 0.8946\n",
            "Epoch 37/100\n",
            "416/416 [==============================] - 2s 4ms/step - loss: 0.0862 - accuracy: 0.9697 - val_loss: 0.3230 - val_accuracy: 0.8889\n",
            "Epoch 38/100\n",
            "416/416 [==============================] - 2s 4ms/step - loss: 0.0811 - accuracy: 0.9705 - val_loss: 0.3134 - val_accuracy: 0.9010\n",
            "Epoch 39/100\n",
            "416/416 [==============================] - 2s 5ms/step - loss: 0.0838 - accuracy: 0.9683 - val_loss: 0.3174 - val_accuracy: 0.9007\n",
            "Epoch 40/100\n",
            "416/416 [==============================] - 2s 4ms/step - loss: 0.0801 - accuracy: 0.9693 - val_loss: 0.3099 - val_accuracy: 0.8940\n",
            "Epoch 41/100\n",
            "416/416 [==============================] - 2s 4ms/step - loss: 0.0694 - accuracy: 0.9745 - val_loss: 0.3363 - val_accuracy: 0.8952\n",
            "Epoch 42/100\n",
            "416/416 [==============================] - 2s 4ms/step - loss: 0.0689 - accuracy: 0.9735 - val_loss: 0.3508 - val_accuracy: 0.8967\n",
            "Epoch 43/100\n",
            "416/416 [==============================] - 2s 4ms/step - loss: 0.0704 - accuracy: 0.9740 - val_loss: 0.3603 - val_accuracy: 0.9004\n",
            "Epoch 44/100\n",
            "416/416 [==============================] - 2s 4ms/step - loss: 0.0720 - accuracy: 0.9734 - val_loss: 0.3716 - val_accuracy: 0.8940\n",
            "Epoch 45/100\n",
            "416/416 [==============================] - 2s 5ms/step - loss: 0.0702 - accuracy: 0.9741 - val_loss: 0.3595 - val_accuracy: 0.8955\n",
            "Epoch 46/100\n",
            "416/416 [==============================] - 2s 5ms/step - loss: 0.0672 - accuracy: 0.9737 - val_loss: 0.3753 - val_accuracy: 0.8980\n",
            "Epoch 47/100\n",
            "416/416 [==============================] - 2s 4ms/step - loss: 0.0619 - accuracy: 0.9776 - val_loss: 0.3856 - val_accuracy: 0.8989\n",
            "Epoch 48/100\n",
            "416/416 [==============================] - 2s 4ms/step - loss: 0.0683 - accuracy: 0.9757 - val_loss: 0.3629 - val_accuracy: 0.8986\n",
            "Epoch 49/100\n",
            "416/416 [==============================] - 2s 4ms/step - loss: 0.0592 - accuracy: 0.9782 - val_loss: 0.4193 - val_accuracy: 0.8964\n",
            "Epoch 50/100\n",
            "416/416 [==============================] - 2s 5ms/step - loss: 0.0700 - accuracy: 0.9737 - val_loss: 0.3966 - val_accuracy: 0.8952\n",
            "Epoch 51/100\n",
            "416/416 [==============================] - 2s 5ms/step - loss: 0.0644 - accuracy: 0.9768 - val_loss: 0.3716 - val_accuracy: 0.8986\n",
            "Epoch 52/100\n",
            "416/416 [==============================] - 2s 4ms/step - loss: 0.0634 - accuracy: 0.9777 - val_loss: 0.4010 - val_accuracy: 0.8907\n",
            "Epoch 53/100\n",
            "416/416 [==============================] - 2s 5ms/step - loss: 0.0696 - accuracy: 0.9747 - val_loss: 0.4131 - val_accuracy: 0.8955\n",
            "Epoch 54/100\n",
            "416/416 [==============================] - 2s 5ms/step - loss: 0.0624 - accuracy: 0.9767 - val_loss: 0.4015 - val_accuracy: 0.8977\n",
            "Epoch 55/100\n",
            "416/416 [==============================] - 2s 4ms/step - loss: 0.0551 - accuracy: 0.9795 - val_loss: 0.3981 - val_accuracy: 0.8970\n",
            "Epoch 56/100\n",
            "416/416 [==============================] - 2s 4ms/step - loss: 0.0585 - accuracy: 0.9780 - val_loss: 0.4131 - val_accuracy: 0.8967\n",
            "Epoch 57/100\n",
            "416/416 [==============================] - 2s 5ms/step - loss: 0.0535 - accuracy: 0.9810 - val_loss: 0.4281 - val_accuracy: 0.8964\n",
            "Epoch 58/100\n",
            "416/416 [==============================] - 2s 4ms/step - loss: 0.0577 - accuracy: 0.9791 - val_loss: 0.4105 - val_accuracy: 0.8986\n",
            "Epoch 59/100\n",
            "416/416 [==============================] - 2s 5ms/step - loss: 0.0528 - accuracy: 0.9815 - val_loss: 0.4281 - val_accuracy: 0.9010\n",
            "Epoch 60/100\n",
            "416/416 [==============================] - 2s 4ms/step - loss: 0.0564 - accuracy: 0.9798 - val_loss: 0.4249 - val_accuracy: 0.8949\n",
            "Epoch 61/100\n",
            "416/416 [==============================] - 2s 4ms/step - loss: 0.0528 - accuracy: 0.9813 - val_loss: 0.4334 - val_accuracy: 0.8865\n",
            "Epoch 62/100\n",
            "416/416 [==============================] - 2s 4ms/step - loss: 0.0508 - accuracy: 0.9800 - val_loss: 0.3886 - val_accuracy: 0.9007\n",
            "Epoch 63/100\n",
            "416/416 [==============================] - 2s 4ms/step - loss: 0.0548 - accuracy: 0.9808 - val_loss: 0.4338 - val_accuracy: 0.8928\n",
            "Epoch 64/100\n",
            "416/416 [==============================] - 2s 5ms/step - loss: 0.0486 - accuracy: 0.9828 - val_loss: 0.4144 - val_accuracy: 0.8983\n",
            "Epoch 65/100\n",
            "416/416 [==============================] - 2s 5ms/step - loss: 0.0531 - accuracy: 0.9818 - val_loss: 0.4172 - val_accuracy: 0.8998\n",
            "Epoch 66/100\n",
            "416/416 [==============================] - 2s 4ms/step - loss: 0.0517 - accuracy: 0.9816 - val_loss: 0.4202 - val_accuracy: 0.8943\n",
            "Epoch 67/100\n",
            "416/416 [==============================] - 2s 5ms/step - loss: 0.0445 - accuracy: 0.9834 - val_loss: 0.4240 - val_accuracy: 0.8946\n",
            "Epoch 68/100\n",
            "416/416 [==============================] - 2s 4ms/step - loss: 0.0458 - accuracy: 0.9842 - val_loss: 0.4178 - val_accuracy: 0.8970\n",
            "Epoch 69/100\n",
            "416/416 [==============================] - 2s 5ms/step - loss: 0.0492 - accuracy: 0.9822 - val_loss: 0.4223 - val_accuracy: 0.8961\n",
            "Epoch 70/100\n",
            "416/416 [==============================] - 2s 5ms/step - loss: 0.0500 - accuracy: 0.9825 - val_loss: 0.4281 - val_accuracy: 0.8946\n",
            "Epoch 71/100\n",
            "416/416 [==============================] - 2s 5ms/step - loss: 0.0469 - accuracy: 0.9835 - val_loss: 0.4284 - val_accuracy: 0.8995\n",
            "Epoch 72/100\n",
            "416/416 [==============================] - 2s 4ms/step - loss: 0.0402 - accuracy: 0.9865 - val_loss: 0.4315 - val_accuracy: 0.9025\n",
            "Epoch 73/100\n",
            "416/416 [==============================] - 2s 5ms/step - loss: 0.0488 - accuracy: 0.9814 - val_loss: 0.4124 - val_accuracy: 0.9016\n",
            "Epoch 74/100\n",
            "416/416 [==============================] - 2s 4ms/step - loss: 0.0458 - accuracy: 0.9839 - val_loss: 0.4183 - val_accuracy: 0.8992\n",
            "Epoch 75/100\n",
            "416/416 [==============================] - 2s 5ms/step - loss: 0.0402 - accuracy: 0.9852 - val_loss: 0.4449 - val_accuracy: 0.8943\n",
            "Epoch 76/100\n",
            "416/416 [==============================] - 2s 5ms/step - loss: 0.0506 - accuracy: 0.9816 - val_loss: 0.4647 - val_accuracy: 0.8980\n",
            "Epoch 77/100\n",
            "416/416 [==============================] - 2s 4ms/step - loss: 0.0451 - accuracy: 0.9855 - val_loss: 0.4245 - val_accuracy: 0.9022\n",
            "Epoch 78/100\n",
            "416/416 [==============================] - 2s 5ms/step - loss: 0.0426 - accuracy: 0.9842 - val_loss: 0.4402 - val_accuracy: 0.8977\n",
            "Epoch 79/100\n",
            "416/416 [==============================] - 2s 4ms/step - loss: 0.0499 - accuracy: 0.9829 - val_loss: 0.4136 - val_accuracy: 0.8937\n",
            "Epoch 80/100\n",
            "416/416 [==============================] - 2s 4ms/step - loss: 0.0418 - accuracy: 0.9850 - val_loss: 0.4520 - val_accuracy: 0.8937\n",
            "Epoch 81/100\n",
            "416/416 [==============================] - 2s 5ms/step - loss: 0.0477 - accuracy: 0.9842 - val_loss: 0.4178 - val_accuracy: 0.8955\n",
            "Epoch 82/100\n",
            "416/416 [==============================] - 2s 4ms/step - loss: 0.0406 - accuracy: 0.9851 - val_loss: 0.4704 - val_accuracy: 0.8980\n",
            "Epoch 83/100\n",
            "416/416 [==============================] - 2s 5ms/step - loss: 0.0450 - accuracy: 0.9846 - val_loss: 0.4508 - val_accuracy: 0.9004\n",
            "Epoch 84/100\n",
            "416/416 [==============================] - 2s 4ms/step - loss: 0.0351 - accuracy: 0.9877 - val_loss: 0.4475 - val_accuracy: 0.8986\n",
            "Epoch 85/100\n",
            "416/416 [==============================] - 2s 5ms/step - loss: 0.0401 - accuracy: 0.9856 - val_loss: 0.4722 - val_accuracy: 0.8964\n",
            "Epoch 86/100\n",
            "416/416 [==============================] - 2s 5ms/step - loss: 0.0415 - accuracy: 0.9851 - val_loss: 0.5196 - val_accuracy: 0.8886\n",
            "Epoch 87/100\n",
            "416/416 [==============================] - 2s 4ms/step - loss: 0.0380 - accuracy: 0.9869 - val_loss: 0.4728 - val_accuracy: 0.8916\n",
            "Epoch 88/100\n",
            "416/416 [==============================] - 2s 5ms/step - loss: 0.0411 - accuracy: 0.9852 - val_loss: 0.4898 - val_accuracy: 0.9016\n",
            "Epoch 89/100\n",
            "416/416 [==============================] - 2s 5ms/step - loss: 0.0447 - accuracy: 0.9840 - val_loss: 0.4613 - val_accuracy: 0.8967\n",
            "Epoch 90/100\n",
            "416/416 [==============================] - 2s 5ms/step - loss: 0.0358 - accuracy: 0.9869 - val_loss: 0.5059 - val_accuracy: 0.8952\n",
            "Epoch 91/100\n",
            "416/416 [==============================] - 2s 5ms/step - loss: 0.0422 - accuracy: 0.9854 - val_loss: 0.4852 - val_accuracy: 0.8901\n",
            "Epoch 92/100\n",
            "416/416 [==============================] - 2s 5ms/step - loss: 0.0431 - accuracy: 0.9856 - val_loss: 0.4672 - val_accuracy: 0.8919\n",
            "Epoch 93/100\n",
            "416/416 [==============================] - 2s 4ms/step - loss: 0.0425 - accuracy: 0.9843 - val_loss: 0.4439 - val_accuracy: 0.8983\n",
            "Epoch 94/100\n",
            "416/416 [==============================] - 2s 5ms/step - loss: 0.0422 - accuracy: 0.9856 - val_loss: 0.4841 - val_accuracy: 0.8922\n",
            "Epoch 95/100\n",
            "416/416 [==============================] - 2s 5ms/step - loss: 0.0384 - accuracy: 0.9863 - val_loss: 0.4888 - val_accuracy: 0.8916\n",
            "Epoch 96/100\n",
            "416/416 [==============================] - 2s 4ms/step - loss: 0.0355 - accuracy: 0.9874 - val_loss: 0.4492 - val_accuracy: 0.8931\n",
            "Epoch 97/100\n",
            "416/416 [==============================] - 2s 4ms/step - loss: 0.0349 - accuracy: 0.9874 - val_loss: 0.5044 - val_accuracy: 0.8967\n",
            "Epoch 98/100\n",
            "416/416 [==============================] - 2s 5ms/step - loss: 0.0423 - accuracy: 0.9856 - val_loss: 0.4772 - val_accuracy: 0.8998\n",
            "Epoch 99/100\n",
            "416/416 [==============================] - 2s 4ms/step - loss: 0.0398 - accuracy: 0.9862 - val_loss: 0.4999 - val_accuracy: 0.8952\n",
            "Epoch 100/100\n",
            "416/416 [==============================] - 2s 5ms/step - loss: 0.0424 - accuracy: 0.9864 - val_loss: 0.4583 - val_accuracy: 0.8983\n"
          ],
          "name": "stdout"
        }
      ]
    },
    {
      "cell_type": "code",
      "metadata": {
        "colab": {
          "base_uri": "https://localhost:8080/",
          "height": 499
        },
        "id": "r8nmtSs1Kqga",
        "outputId": "5334b452-657d-44dd-c75f-1aa2734987f7"
      },
      "source": [
        "import matplotlib.pyplot as plt\n",
        "\n",
        "epochs = 100\n",
        "acc = history.history['accuracy']\n",
        "val_acc = history.history['val_accuracy']\n",
        "\n",
        "loss = history.history['loss']\n",
        "val_loss = history.history['val_loss']\n",
        "\n",
        "epochs_range = range(epochs)\n",
        "\n",
        "plt.figure(figsize=(8, 8))\n",
        "plt.subplot(1, 2, 1)\n",
        "plt.plot(epochs_range, acc, label='Training Accuracy')\n",
        "plt.plot(epochs_range, val_acc, label='Validation Accuracy')\n",
        "plt.legend(loc='lower right')\n",
        "plt.title('Training and Validation Accuracy')\n",
        "\n",
        "plt.subplot(1, 2, 2)\n",
        "plt.plot(epochs_range, loss, label='Training Loss')\n",
        "plt.plot(epochs_range, val_loss, label='Validation Loss')\n",
        "plt.legend(loc='upper right')\n",
        "plt.title('Training and Validation Loss')\n",
        "plt.show()"
      ],
      "execution_count": null,
      "outputs": [
        {
          "output_type": "display_data",
          "data": {
            "image/png": "[encoded data removed]",
            "text/plain": [
              "<Figure size 576x576 with 2 Axes>"
            ]
          },
          "metadata": {
            "tags": [],
            "needs_background": "light"
          }
        }
      ]
    },
    {
      "cell_type": "code",
      "metadata": {
        "id": "93K2gECjLdFV"
      },
      "source": [
        ""
      ],
      "execution_count": null,
      "outputs": []
    }
  ]
}